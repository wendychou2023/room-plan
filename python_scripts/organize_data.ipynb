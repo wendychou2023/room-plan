{
 "cells": [
  {
   "cell_type": "code",
   "execution_count": 1,
   "id": "initial_id",
   "metadata": {
    "jupyter": {
     "is_executing": true
    }
   },
   "outputs": [],
   "source": [
    "from pprint import pprint\n",
    "import xml.etree.ElementTree as ET\n",
    "import re\n",
    "\n",
    "#import requests as req "
   ]
  },
  {
   "cell_type": "code",
   "execution_count": 2,
   "id": "871199bf531b7232",
   "metadata": {},
   "outputs": [],
   "source": [
    "# Reading file from request\n",
    "HTML_f = open(\"new.xml.html\", \"r\") \n",
    "\n",
    "# Reading the file \n",
    "html_t = HTML_f.read() \n",
    "\n",
    "# saving file as list\n",
    "\n",
    "html_l = list(html_t.split('>'))"
   ]
  },
  {
   "cell_type": "code",
   "execution_count": 3,
   "id": "729461e5-d611-4a88-ac20-f508b1ff2780",
   "metadata": {},
   "outputs": [],
   "source": [
    "def flatten_str_l(input_l):\n",
    "    res = []\n",
    "    for i in input_l:\n",
    "        if isinstance(i,list): res.extend(flatten(i))\n",
    "        else: res.append(i)\n",
    "    return res"
   ]
  },
  {
   "cell_type": "code",
   "execution_count": 4,
   "id": "6020ba7a-2f2e-47b3-8940-d4ce7ca50050",
   "metadata": {},
   "outputs": [],
   "source": [
    "def get_event_info(start_i,info):\n",
    "    # filter out useful information for each event \n",
    "        e_id = info[start_i+15]\n",
    "        e_title = info[start_i+17]\n",
    "        e_type = info[start_i+22]\n",
    "        e_group = info[start_i+24]\n",
    "        e_time = info[start_i+27]\n",
    "        e_type2 = info[start_i+30]\n",
    "        #von-bis-days in [start_i+33::start_i+37]\n",
    "        #room name in [start_i+40]\n",
    "        #prof name in [start_i+61]\n",
    "        event = [e_id, e_title, e_type, e_group, e_time, e_type2]\n",
    "        return [x.replace('</span','').replace(', ','').strip()\n",
    "                 for x in event if not 'undefined' in x]\n",
    "    "
   ]
  },
  {
   "cell_type": "code",
   "execution_count": 21,
   "id": "f00302aaea682a41",
   "metadata": {
    "scrolled": true
   },
   "outputs": [
    {
     "name": "stdout",
     "output_type": "stream",
     "text": [
      "[['EV-17-PRÜ-470',\n",
      "  'Klausur Ecosystem Restoration',\n",
      "  'interne Veranstaltung',\n",
      "  '1. PG',\n",
      "  '09:00 bis 11:00',\n",
      "  'Einzeltermin'],\n",
      " ['EV-17-VOR-035',\n",
      "  'Vorbereitungen zu LV-17-b01-026 (Bestimmungsübungen für Fortgeschrittene)',\n",
      "  'interne Veranstaltung',\n",
      "  '1. PG',\n",
      "  '09:00 bis 17:00',\n",
      "  'Einzeltermin'],\n",
      " ['<div class=\"scheduleTimes\"',\n",
      "  '09:00 bis 18:00',\n",
      "  '<span '\n",
      "  'id=\"plan:schedule:scheduleColumn:4:termin:2:scheduleItem:scheduleStartDate\"',\n",
      "  '<span '\n",
      "  'id=\"plan:schedule:scheduleColumn:4:termin:2:scheduleItem:scheduleDateSeperator\"',\n",
      "  '30.08.2024',\n",
      "  'BKR3 + BKR4'],\n",
      " ['<span '\n",
      "  'id=\"plan:schedule:scheduleColumn:4:termin:3:scheduleItem:eventtypeShorttext\"',\n",
      "  '<span '\n",
      "  'id=\"plan:schedule:scheduleColumn:4:termin:3:scheduleItem:parallelgroupshorttext\"',\n",
      "  '</div',\n",
      "  'Blockveranstaltung',\n",
      "  '16.09.2024',\n",
      "  '<span '\n",
      "  'id=\"plan:schedule:scheduleColumn:4:termin:3:scheduleItem:scheduleEndDate\"'],\n",
      " ['Field Course of Mycology (Exkursion und Übung; 2 Wochen ganztags)',\n",
      "  '<div class=\"clearer\"',\n",
      "  '1. PG',\n",
      "  '<span '\n",
      "  'id=\"plan:schedule:scheduleColumn:4:termin:4:scheduleItem:processingTimes\"',\n",
      "  '<span '\n",
      "  'id=\"plan:schedule:scheduleColumn:4:termin:4:scheduleItem:rhythmDefaulttext\"',\n",
      "  '<span '\n",
      "  'id=\"plan:schedule:scheduleColumn:4:termin:4:scheduleItem:scheduleStartDate\"'],\n",
      " ['<img src=\"/HISinOne/images/icons/book_open.svg\" role=\"img\" '\n",
      "  'alt=\"Veranstaltung\" style=\"height: 1em\" class=\"image_small\" /',\n",
      "  'EV-17-WPRÜ-069',\n",
      "  '</div',\n",
      "  'interne Veranstaltung',\n",
      "  '<div class=\"scheduleTimes\"',\n",
      "  '</div'],\n",
      " ['<img src=\"/HISinOne/images/icons/book_open.svg\" role=\"img\" '\n",
      "  'alt=\"Veranstaltung\" style=\"height: 1em\" class=\"image_small\" /',\n",
      "  'EV-17-WPRÜ-069',\n",
      "  '</div',\n",
      "  'interne Veranstaltung',\n",
      "  '<div class=\"scheduleTimes\"',\n",
      "  '</div'],\n",
      " ['<img src=\"/HISinOne/images/icons/book_open.svg\" role=\"img\" '\n",
      "  'alt=\"Veranstaltung\" style=\"height: 1em\" class=\"image_small\" /',\n",
      "  'EV-17-VOR-035',\n",
      "  '</div',\n",
      "  'interne Veranstaltung',\n",
      "  '<div class=\"scheduleTimes\"',\n",
      "  '</div'],\n",
      " ['</strong'],\n",
      " ['Blockveranstaltung',\n",
      "  '',\n",
      "  '<span '\n",
      "  'id=\"plan:schedule:scheduleLegend:rhythmLegend:legendEntry:2:rhythmItems:2:ryhtmText\"',\n",
      "  '</li',\n",
      "  '</div',\n",
      "  '<span '\n",
      "  'id=\"plan:schedule:scheduleLegend:rhythmLegend:legendEntry:3:rhythmItems:0:rhythmSeperator\"']]\n"
     ]
    }
   ],
   "source": [
    "# list of days (keywords), delete Sunday?\n",
    "days = [\"Montag\",\"Dienstag\", \"Mittwoch\", \"Donnerstag\", \"Freitag\", \"Samstag\", \"Sonntag\"]\n",
    "\n",
    "res_dict = dict.fromkeys(days)\n",
    "# get information for each day of the week \n",
    "for day in days:\n",
    "    start = [i for i,x in enumerate(html_l) if day in x]\n",
    "    if len(start) !=0:\n",
    "        d = start[1]\n",
    "        info = flatten_str_l(html_l[d::])\n",
    "        \n",
    "        #TODO: loop trough days\n",
    "        # [96] second event for friday, 100 rest\n",
    "        # Sa/So different [70]\n",
    "        #print(day,info[70])\n",
    "        events = []\n",
    "        for i in range(0,len(info),81): #not working, find regex to match beginning of event\n",
    "            if i+61 < len(info):\n",
    "                new_ev = get_event_info(i, info)\n",
    "                events.append(new_ev)\n",
    "                res_dict[day]= events\n",
    "            \n",
    "\n",
    "# output-dictionary with objects, divided by day, ordered by time\n",
    "pprint(res_dict['Freitag'])\n"
   ]
  },
  {
   "cell_type": "code",
   "execution_count": null,
   "id": "057ead42-2154-4341-8cf3-66f65003d46d",
   "metadata": {},
   "outputs": [],
   "source": []
  }
 ],
 "metadata": {
  "kernelspec": {
   "display_name": "Python 3 (ipykernel)",
   "language": "python",
   "name": "python3"
  },
  "language_info": {
   "codemirror_mode": {
    "name": "ipython",
    "version": 3
   },
   "file_extension": ".py",
   "mimetype": "text/x-python",
   "name": "python",
   "nbconvert_exporter": "python",
   "pygments_lexer": "ipython3",
   "version": "3.12.3"
  }
 },
 "nbformat": 4,
 "nbformat_minor": 5
}
